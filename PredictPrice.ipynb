{
 "cells": [
  {
   "cell_type": "markdown",
   "metadata": {
    "colab_type": "text",
    "id": "mTqiVW_7eb8s"
   },
   "source": [
    "Steps for running the code:\n",
    "\n",
    "1- Press run in the bar\n",
    "\n",
    "2- You will be asked to input a date in the format YYYY-MM-DD\n",
    "\n",
    "3- After adding the correct date press enter and a price will be predicted and printed.\n",
    "\n"
   ]
  },
  {
   "cell_type": "code",
   "execution_count": 4,
   "metadata": {
    "colab": {
     "base_uri": "https://localhost:8080/",
     "height": 528
    },
    "colab_type": "code",
    "executionInfo": {
     "elapsed": 10863,
     "status": "error",
     "timestamp": 1589230192430,
     "user": {
      "displayName": "Mohamed Hossam",
      "photoUrl": "",
      "userId": "14852480039361345095"
     },
     "user_tz": -120
    },
    "id": "NPmTlmDxgkgf",
    "outputId": "3fffde99-6478-4dc1-ab6f-cab56cbc704c"
   },
   "outputs": [
    {
     "name": "stdout",
     "output_type": "stream",
     "text": [
      "Please enter a date in the format YYYY-MM-DD: 2020-05-31\n",
      "Price:  206.97812\n"
     ]
    }
   ],
   "source": [
    "import requests\n",
    "import tensorflow as tf\n",
    "import datetime\n",
    "\n",
    "def download_file_from_google_drive(id, destination):\n",
    "    URL = \"https://docs.google.com/uc?export=download\"\n",
    "\n",
    "    session = requests.Session()\n",
    "\n",
    "    response = session.get(URL, params = { 'id' : id }, stream = True)\n",
    "    token = get_confirm_token(response)\n",
    "\n",
    "    if token:\n",
    "        params = { 'id' : id, 'confirm' : token }\n",
    "        response = session.get(URL, params = params, stream = True)\n",
    "\n",
    "    save_response_content(response, destination)    \n",
    "\n",
    "def get_confirm_token(response):\n",
    "    for key, value in response.cookies.items():\n",
    "        if key.startswith('download_warning'):\n",
    "            return value\n",
    "\n",
    "    return None\n",
    "\n",
    "def save_response_content(response, destination):\n",
    "    CHUNK_SIZE = 32768  # i think changing this would make it useful for bigger zip files\n",
    "\n",
    "    with open(destination, \"wb\") as f:\n",
    "        for chunk in response.iter_content(CHUNK_SIZE):\n",
    "            if chunk: # filter out keep-alive new chunks\n",
    "                f.write(chunk)\n",
    "\n",
    "file_id = '1julEAVCTMU5BHL39eqCV00cPGr9cZi_5'\n",
    "download_file_from_google_drive(file_id, './model.h5')\n",
    "\n",
    "\n",
    "path = './model.h5'\n",
    "model = tf.keras.models.load_model(path)\n",
    "\n",
    "userPredict = input(\"Please enter a date in the format YYYY-MM-DD: \")\n",
    "try:\n",
    "        correctDate = datetime.datetime.strptime(userPredict, '%Y-%m-%d')\n",
    "        correctDate = (correctDate.year - 1992)*12 + correctDate.month\n",
    "        x= model.predict([correctDate])\n",
    "        print(\"Price: \", x[0][0])\n",
    "except ValueError:\n",
    "        print(\"Incorrect data format, should be YYYY-MM-DD\")  \n",
    "\n",
    "\n",
    "\n",
    "\n",
    "\n"
   ]
  },
  {
   "cell_type": "code",
   "execution_count": null,
   "metadata": {},
   "outputs": [],
   "source": []
  }
 ],
 "metadata": {
  "colab": {
   "authorship_tag": "ABX9TyPSB58kreRy1REazf4UK4lw",
   "collapsed_sections": [],
   "name": "PredictPrice.ipynb",
   "provenance": [],
   "toc_visible": true
  },
  "kernelspec": {
   "display_name": "Python 3",
   "language": "python",
   "name": "python3"
  },
  "language_info": {
   "codemirror_mode": {
    "name": "ipython",
    "version": 3
   },
   "file_extension": ".py",
   "mimetype": "text/x-python",
   "name": "python",
   "nbconvert_exporter": "python",
   "pygments_lexer": "ipython3",
   "version": "3.8.2"
  }
 },
 "nbformat": 4,
 "nbformat_minor": 1
}
